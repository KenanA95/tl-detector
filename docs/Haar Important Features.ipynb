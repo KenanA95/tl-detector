{
 "cells": [
  {
   "cell_type": "markdown",
   "metadata": {},
   "source": [
    "## Haar-like Features\n",
    "\n",
    "Determine which Haar features are most relevant for traffic light detection using a RandomForest. Modified script taken from sci-kit image. \n",
    "\n",
    "Source: http://scikit-image.org/docs/dev/auto_examples/xx_applications/plot_haar_extraction_selection_classification.html\n",
    "\n",
    "Save the results to file to use with the Haar Descriptor"
   ]
  },
  {
   "cell_type": "code",
   "execution_count": 1,
   "metadata": {},
   "outputs": [
    {
     "name": "stderr",
     "output_type": "stream",
     "text": [
      "C:\\Users\\kenan\\Anaconda3\\lib\\site-packages\\sklearn\\ensemble\\weight_boosting.py:29: DeprecationWarning: numpy.core.umath_tests is an internal NumPy module and should not be imported. It will be removed in a future NumPy release.\n",
      "  from numpy.core.umath_tests import inner1d\n"
     ]
    }
   ],
   "source": [
    "from __future__ import division, print_function\n",
    "from time import time\n",
    "\n",
    "import cv2\n",
    "import numpy as np\n",
    "import matplotlib.pyplot as plt\n",
    "import os, sys, inspect\n",
    "\n",
    "from dask import delayed\n",
    "\n",
    "from sklearn.ensemble import RandomForestClassifier\n",
    "from sklearn.model_selection import train_test_split\n",
    "from sklearn.metrics import roc_auc_score\n",
    "\n",
    "from skimage.data import lfw_subset\n",
    "from skimage.transform import integral_image\n",
    "from skimage.feature import haar_like_feature\n",
    "from skimage.feature import haar_like_feature_coord\n",
    "from skimage.feature import draw_haar_like_feature\n",
    "\n",
    "\n",
    "# Add tl-detector to path so I can import from the project\n",
    "currentdir = os.path.dirname(os.path.abspath(inspect.getfile(inspect.currentframe())))\n",
    "parentdir = os.path.dirname(currentdir)\n",
    "sys.path.insert(0,parentdir + '/src/') \n",
    "\n",
    "@delayed\n",
    "def extract_feature_image(img, feature_type, feature_coord=None):\n",
    "    \"\"\"Extract the haar feature for the current image\"\"\"\n",
    "    ii = integral_image(img)\n",
    "    return haar_like_feature(ii, 0, 0, ii.shape[0], ii.shape[1], feature_type, feature_coord=feature_coord)"
   ]
  },
  {
   "cell_type": "code",
   "execution_count": 2,
   "metadata": {},
   "outputs": [
    {
     "name": "stdout",
     "output_type": "stream",
     "text": [
      "Total positive images: 100\n",
      "Total negative images: 100\n"
     ]
    }
   ],
   "source": [
    "from helpers import read_directory_images\n",
    "\n",
    "# Load in the data\n",
    "pos_dir = \"C:/Users/kenan/Desktop/repos/tl-data/sample-positives/\"\n",
    "neg_dir = \"C:/Users/kenan/Desktop/repos/tl-data/negatives/\" \n",
    "\n",
    "positive_images = list(read_directory_images(pos_dir, extension='.png', n=100))\n",
    "negative_images = list(read_directory_images(neg_dir, extension='.png', n=100))\n",
    "\n",
    "# Resize all to 32x64 and convert to grayscale\n",
    "positive_images = [cv2.resize(im, (32, 64)) for im in positive_images]\n",
    "negative_images = [cv2.resize(im, (32, 64)) for im in negative_images]\n",
    "images = np.concatenate((positive_images, negative_images))\n",
    "images = [cv2.cvtColor(img, cv2.COLOR_RGB2GRAY) for img in images]\n",
    "\n",
    "print(\"Total positive images: {}\".format(len(positive_images)))\n",
    "print(\"Total negative images: {}\".format(len(positive_images)))"
   ]
  },
  {
   "cell_type": "code",
   "execution_count": 3,
   "metadata": {},
   "outputs": [
    {
     "name": "stderr",
     "output_type": "stream",
     "text": [
      "C:\\Users\\kenan\\Anaconda3\\lib\\site-packages\\sklearn\\model_selection\\_split.py:2026: FutureWarning: From version 0.21, test_size will always complement train_size unless both are specified.\n",
      "  FutureWarning)\n"
     ]
    }
   ],
   "source": [
    "# Feature extraction\n",
    "feature_types = ['type-2-x', 'type-2-y', 'type-3-x', 'type-3-y']\n",
    "\n",
    "# Build a computation graph using dask. This allows using multiple CPUs for\n",
    "# the computation step. Compute the result using the \"processes\" dask backend\n",
    "X = delayed(extract_feature_image(img, feature_types) for img in images)\n",
    "X = np.array(X.compute(scheduler='processes'))\n",
    "\n",
    "y = np.array([1] * 100 + [0] * 100)\n",
    "X_train, X_test, y_train, y_test = train_test_split(X, y, train_size=150, random_state=0, stratify=y)\n",
    "\n",
    "# Extract all possible features to be able to select the most salient.\n",
    "feature_coord, feature_type = haar_like_feature_coord(width=32, height=64, feature_type=feature_types)"
   ]
  },
  {
   "cell_type": "code",
   "execution_count": 4,
   "metadata": {},
   "outputs": [
    {
     "data": {
      "text/plain": [
       "Text(0.5,0.98,'The most important features')"
      ]
     },
     "execution_count": 4,
     "metadata": {},
     "output_type": "execute_result"
    },
    {
     "data": {
      "image/png": "[encoded data removed]",
      "text/plain": [
       "<Figure size 432x288 with 6 Axes>"
      ]
     },
     "metadata": {},
     "output_type": "display_data"
    }
   ],
   "source": [
    "# # Train a random forest classifier and check performance\n",
    "clf = RandomForestClassifier(n_estimators=1000, max_depth=None, max_features=100, n_jobs=-1, random_state=0)\n",
    "clf.fit(X_train, y_train)\n",
    "auc_full_features = roc_auc_score(y_test, clf.predict_proba(X_test)[:, 1])\n",
    "\n",
    "# Sort features in order of importance, plot six most significant\n",
    "idx_sorted = np.argsort(clf.feature_importances_)[::-1]\n",
    "\n",
    "fig, axes = plt.subplots(3, 2)\n",
    "for idx, ax in enumerate(axes.ravel()):\n",
    "    image = images[41]\n",
    "    image = draw_haar_like_feature(image, 0, 0, 32, 64, [feature_coord[idx_sorted[idx]]])\n",
    "    ax.imshow(image)\n",
    "    ax.set_xticks([])\n",
    "    ax.set_yticks([])\n",
    "\n",
    "fig.suptitle('The most important features')"
   ]
  },
  {
   "cell_type": "code",
   "execution_count": 5,
   "metadata": {},
   "outputs": [
    {
     "name": "stdout",
     "output_type": "stream",
     "text": [
      "825 features, or 0.0%, account for 70% of branch points in the random forest.\n"
     ]
    }
   ],
   "source": [
    "cdf_feature_importances = np.cumsum(clf.feature_importances_[idx_sorted])\n",
    "cdf_feature_importances /= np.max(cdf_feature_importances)\n",
    "sig_feature_count = np.count_nonzero(cdf_feature_importances < 0.7)\n",
    "sig_feature_percent = round(sig_feature_count /\n",
    "                            len(cdf_feature_importances) * 100, 1)\n",
    "print(('{} features, or {}%, account for 70% of branch points in the random '\n",
    "       'forest.').format(sig_feature_count, sig_feature_percent))\n",
    "\n",
    "# Select the most informative features\n",
    "selected_feature_coord = feature_coord[idx_sorted[:sig_feature_count]]\n",
    "selected_feature_type = feature_type[idx_sorted[:sig_feature_count]]"
   ]
  },
  {
   "cell_type": "markdown",
   "metadata": {},
   "source": [
    "### Save output to file"
   ]
  },
  {
   "cell_type": "code",
   "execution_count": 7,
   "metadata": {},
   "outputs": [],
   "source": [
    "import pickle\n",
    "\n",
    "with open('haar_out.pkl', 'wb') as f: \n",
    "    pickle.dump([selected_feature_coord, selected_feature_type], f)"
   ]
  },
  {
   "cell_type": "markdown",
   "metadata": {},
   "source": [
    "## SVM Training Results\n",
    "\n",
    "### Load in Training Data"
   ]
  },
  {
   "cell_type": "code",
   "execution_count": 9,
   "metadata": {},
   "outputs": [
    {
     "name": "stdout",
     "output_type": "stream",
     "text": [
      "Total positive images: 1250\n",
      "Total negative images: 1250\n"
     ]
    }
   ],
   "source": [
    "from helpers import read_directory_images\n",
    "\n",
    "# Load in the data\n",
    "pos_dir = \"C:/Users/kenan/Desktop/repos/tl-data/positives/\"\n",
    "neg_dir = \"C:/Users/kenan/Desktop/repos/tl-data/negatives/\" \n",
    "\n",
    "positive_images = list(read_directory_images(pos_dir, extension='.png', n=1250))\n",
    "negative_images = list(read_directory_images(neg_dir, extension='.png', n=1250))\n",
    "\n",
    "# Resize all to 32x64 and convert to grayscale\n",
    "positive_images = [cv2.resize(im, (32, 64)) for im in positive_images]\n",
    "negative_images = [cv2.resize(im, (32, 64)) for im in negative_images]\n",
    "\n",
    "images = np.concatenate((positive_images, negative_images))\n",
    "images = [cv2.cvtColor(img, cv2.COLOR_RGB2GRAY) for img in images]\n",
    "\n",
    "print(\"Total positive images: {}\".format(len(positive_images)))\n",
    "print(\"Total negative images: {}\".format(len(negative_images)))"
   ]
  },
  {
   "cell_type": "markdown",
   "metadata": {},
   "source": [
    "### Cross-Train and Evaluate"
   ]
  },
  {
   "cell_type": "code",
   "execution_count": 10,
   "metadata": {},
   "outputs": [
    {
     "name": "stdout",
     "output_type": "stream",
     "text": [
      "Recall: 0.88\n",
      "Accuracy: 0.92\n",
      "Precision: 0.96\n"
     ]
    }
   ],
   "source": [
    "from sklearn.svm import SVC\n",
    "from sklearn.metrics import accuracy_score, precision_score, recall_score\n",
    "\n",
    "X = delayed(extract_feature_image(img, selected_feature_type, selected_feature_coord) for img in images)\n",
    "X = np.array(X.compute(scheduler='threads'))\n",
    "y = np.array([1] * 1250 + [0] * 1250)\n",
    "\n",
    "X_train, X_test, y_train, y_test = train_test_split(X, y, test_size=0.25)\n",
    "\n",
    "clf.fit(X_train, y_train)\n",
    "predictions = clf.predict(X_test)\n",
    "\n",
    "recall = recall_score(y_test, predictions)\n",
    "accuracy = accuracy_score(y_test, predictions)\n",
    "precision = precision_score(y_test, predictions)\n",
    "\n",
    "print(\"Recall: {:.2f}\".format(recall))\n",
    "print(\"Accuracy: {:.2f}\".format(accuracy))\n",
    "print(\"Precision: {:.2f}\".format(precision))"
   ]
  }
 ],
 "metadata": {
  "kernelspec": {
   "display_name": "Python 3",
   "language": "python",
   "name": "python3"
  },
  "language_info": {
   "codemirror_mode": {
    "name": "ipython",
    "version": 3
   },
   "file_extension": ".py",
   "mimetype": "text/x-python",
   "name": "python",
   "nbconvert_exporter": "python",
   "pygments_lexer": "ipython3",
   "version": "3.7.0"
  }
 },
 "nbformat": 4,
 "nbformat_minor": 2
}
