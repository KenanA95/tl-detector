{
 "cells": [
  {
   "cell_type": "markdown",
   "metadata": {},
   "source": [
    "# Parameter Optimization \n",
    "\n",
    "Determining the optimal regularization parameter (C variable) for support vector machine training along with feature specific parameters"
   ]
  },
  {
   "cell_type": "code",
   "execution_count": 2,
   "metadata": {},
   "outputs": [],
   "source": [
    "import cv2\n",
    "import numpy as np\n",
    "import matplotlib.pyplot as plt\n",
    "import os, sys, inspect\n",
    "\n",
    "# Add tl-detector to path so I can import from the project\n",
    "currentdir = os.path.dirname(os.path.abspath(inspect.getfile(inspect.currentframe())))\n",
    "parentdir = os.path.dirname(currentdir)\n",
    "sys.path.insert(0,parentdir + '/src/') "
   ]
  },
  {
   "cell_type": "markdown",
   "metadata": {},
   "source": [
    "### Load in the training data"
   ]
  },
  {
   "cell_type": "code",
   "execution_count": 25,
   "metadata": {},
   "outputs": [
    {
     "name": "stdout",
     "output_type": "stream",
     "text": [
      "Total positive images: 250\n",
      "Total negative images: 250\n"
     ]
    }
   ],
   "source": [
    "from helpers import read_directory_images\n",
    "\n",
    "# Load in the data\n",
    "pos_dir = \"C:/Users/kenan/Desktop/repos/tl-dev/positives/\"\n",
    "neg_dir = \"C:/Users/kenan/Desktop/repos/tl-dev/negatives/\" \n",
    "\n",
    "positive_images = list(read_directory_images(pos_dir, extension='.png', n=250))\n",
    "negative_images = list(read_directory_images(neg_dir, extension='.png', n=250))\n",
    "\n",
    "# Resize all to 32x64 and convert to grayscale\n",
    "positive_images = [cv2.resize(im, (32, 64)) for im in positive_images]\n",
    "negative_images = [cv2.resize(im, (32, 64)) for im in negative_images]\n",
    "images = np.concatenate((positive_images, negative_images))\n",
    "\n",
    "labels = np.array([1] * 250 + [0] * 250)\n",
    "\n",
    "print(\"Total positive images: {}\".format(len(positive_images)))\n",
    "print(\"Total negative images: {}\".format(len(negative_images)))"
   ]
  },
  {
   "cell_type": "markdown",
   "metadata": {
    "collapsed": true
   },
   "source": [
    "## Histogram of Oriented Gradients"
   ]
  },
  {
   "cell_type": "code",
   "execution_count": 28,
   "metadata": {
    "scrolled": true
   },
   "outputs": [
    {
     "name": "stdout",
     "output_type": "stream",
     "text": [
      "SVM with C Penalty: 0.01\n"
     ]
    },
    {
     "name": "stderr",
     "output_type": "stream",
     "text": [
      "C:\\Users\\kenan\\Anaconda3\\lib\\site-packages\\sklearn\\metrics\\classification.py:1135: UndefinedMetricWarning: Precision is ill-defined and being set to 0.0 due to no predicted samples.\n",
      "  'precision', 'predicted', average, warn_for)\n"
     ]
    },
    {
     "name": "stdout",
     "output_type": "stream",
     "text": [
      "Recall: 0.00\n",
      "Accuracy: 0.50\n",
      "Precision: 0.00\n",
      "\n",
      "SVM with C Penalty: 0.1\n",
      "Recall: 0.64\n",
      "Accuracy: 0.82\n",
      "Precision: 1.00\n",
      "\n",
      "SVM with C Penalty: 1.0\n",
      "Recall: 1.00\n",
      "Accuracy: 1.00\n",
      "Precision: 1.00\n",
      "\n",
      "SVM with C Penalty: 10.0\n",
      "Recall: 1.00\n",
      "Accuracy: 1.00\n",
      "Precision: 1.00\n",
      "\n",
      "SVM with C Penalty: 25.0\n",
      "Recall: 1.00\n",
      "Accuracy: 1.00\n",
      "Precision: 1.00\n",
      "\n",
      "SVM with C Penalty: 100.0\n",
      "Recall: 1.00\n",
      "Accuracy: 1.00\n",
      "Precision: 1.00\n",
      "\n"
     ]
    }
   ],
   "source": [
    "from classifiers import SVM\n",
    "from features import HogDescriptor\n",
    "from evaluate import cross_train_validate\n",
    "\n",
    "hog = HogDescriptor(cell_size=(4, 4), block_size=(2, 2), orientations=9)\n",
    "\n",
    "for C in [0.01, 0.1, 1.0, 10.0, 25.0, 100.0]:\n",
    "    svm = SVM(hog, C)\n",
    "    print(str(svm))\n",
    "    cross_train_validate(svm, images, labels, test_size=0.25)\n",
    "    print()"
   ]
  },
  {
   "cell_type": "code",
   "execution_count": 26,
   "metadata": {},
   "outputs": [
    {
     "name": "stdout",
     "output_type": "stream",
     "text": [
      "SVM with C Penalty: 0.01\n",
      "Recall: 1.00\n",
      "Accuracy: 0.50\n",
      "Precision: 0.50\n",
      "\n",
      "SVM with C Penalty: 0.1\n",
      "Recall: 0.90\n",
      "Accuracy: 0.95\n",
      "Precision: 1.00\n",
      "\n",
      "SVM with C Penalty: 1.0\n",
      "Recall: 0.99\n",
      "Accuracy: 0.99\n",
      "Precision: 1.00\n",
      "\n",
      "SVM with C Penalty: 10.0\n",
      "Recall: 0.99\n",
      "Accuracy: 1.00\n",
      "Precision: 1.00\n",
      "\n",
      "SVM with C Penalty: 25.0\n",
      "Recall: 0.99\n",
      "Accuracy: 1.00\n",
      "Precision: 1.00\n",
      "\n",
      "SVM with C Penalty: 100.0\n",
      "Recall: 0.99\n",
      "Accuracy: 0.99\n",
      "Precision: 1.00\n",
      "\n"
     ]
    }
   ],
   "source": [
    "hog = HogDescriptor(cell_size=(8, 8), block_size=(2, 2), orientations=9)\n",
    "\n",
    "for C in [0.01, 0.1, 1.0, 10.0, 25.0, 100.0]:\n",
    "    svm = SVM(hog, C)\n",
    "    print(str(svm))\n",
    "    cross_train_validate(svm, images, labels, test_size=0.25)\n",
    "    print()"
   ]
  },
  {
   "cell_type": "code",
   "execution_count": 27,
   "metadata": {},
   "outputs": [
    {
     "name": "stdout",
     "output_type": "stream",
     "text": [
      "SVM with C Penalty: 0.01\n"
     ]
    },
    {
     "name": "stderr",
     "output_type": "stream",
     "text": [
      "C:\\Users\\kenan\\Anaconda3\\lib\\site-packages\\sklearn\\metrics\\classification.py:1135: UndefinedMetricWarning: Precision is ill-defined and being set to 0.0 due to no predicted samples.\n",
      "  'precision', 'predicted', average, warn_for)\n"
     ]
    },
    {
     "name": "stdout",
     "output_type": "stream",
     "text": [
      "Recall: 0.00\n",
      "Accuracy: 0.50\n",
      "Precision: 0.00\n",
      "\n",
      "SVM with C Penalty: 0.1\n",
      "Recall: 0.86\n",
      "Accuracy: 0.93\n",
      "Precision: 0.99\n",
      "\n",
      "SVM with C Penalty: 1.0\n",
      "Recall: 0.98\n",
      "Accuracy: 0.99\n",
      "Precision: 1.00\n",
      "\n",
      "SVM with C Penalty: 10.0\n",
      "Recall: 0.98\n",
      "Accuracy: 0.99\n",
      "Precision: 0.99\n",
      "\n",
      "SVM with C Penalty: 25.0\n",
      "Recall: 0.98\n",
      "Accuracy: 0.99\n",
      "Precision: 1.00\n",
      "\n",
      "SVM with C Penalty: 100.0\n",
      "Recall: 1.00\n",
      "Accuracy: 1.00\n",
      "Precision: 1.00\n",
      "\n"
     ]
    }
   ],
   "source": [
    "hog = HogDescriptor(cell_size=(16, 16), block_size=(2, 2), orientations=9)\n",
    "\n",
    "for C in [0.01, 0.1, 1.0, 10.0, 25.0, 100.0]:\n",
    "    svm = SVM(hog, C)\n",
    "    print(str(svm))\n",
    "    cross_train_validate(svm, images, labels, test_size=0.25)\n",
    "    print()"
   ]
  },
  {
   "cell_type": "markdown",
   "metadata": {},
   "source": [
    "## Local Binary Patterns"
   ]
  },
  {
   "cell_type": "markdown",
   "metadata": {},
   "source": [
    "### Default "
   ]
  },
  {
   "cell_type": "code",
   "execution_count": 31,
   "metadata": {},
   "outputs": [
    {
     "name": "stdout",
     "output_type": "stream",
     "text": [
      "SVM with C Penalty: 0.01\n",
      "Recall: 1.00\n",
      "Accuracy: 0.50\n",
      "Precision: 0.50\n",
      "\n",
      "SVM with C Penalty: 0.1\n",
      "Recall: 0.65\n",
      "Accuracy: 0.65\n",
      "Precision: 0.65\n",
      "\n",
      "SVM with C Penalty: 1.0\n",
      "Recall: 0.92\n",
      "Accuracy: 0.78\n",
      "Precision: 0.72\n",
      "\n",
      "SVM with C Penalty: 10.0\n",
      "Recall: 0.94\n",
      "Accuracy: 0.86\n",
      "Precision: 0.81\n",
      "\n",
      "SVM with C Penalty: 25.0\n",
      "Recall: 0.89\n",
      "Accuracy: 0.87\n",
      "Precision: 0.86\n",
      "\n",
      "SVM with C Penalty: 100.0\n",
      "Recall: 0.89\n",
      "Accuracy: 0.87\n",
      "Precision: 0.85\n",
      "\n"
     ]
    }
   ],
   "source": [
    "from classifiers import SVM\n",
    "from features import LBPDescriptor\n",
    "from evaluate import cross_train_validate\n",
    "\n",
    "lbp = LBPDescriptor(radius=8, points=24, method='default')\n",
    "gray_images = [cv2.cvtColor(img, cv2.COLOR_RGB2GRAY) for img in images]\n",
    "\n",
    "for C in [0.01, 0.1, 1.0, 10.0, 25.0, 100.0]:\n",
    "    svm = SVM(lbp, C)\n",
    "    print(str(svm))\n",
    "    cross_train_validate(svm, gray_images, labels, test_size=0.25)\n",
    "    print()"
   ]
  },
  {
   "cell_type": "markdown",
   "metadata": {},
   "source": [
    "### Uniform"
   ]
  },
  {
   "cell_type": "code",
   "execution_count": 32,
   "metadata": {},
   "outputs": [
    {
     "name": "stdout",
     "output_type": "stream",
     "text": [
      "SVM with C Penalty: 0.01\n"
     ]
    },
    {
     "name": "stderr",
     "output_type": "stream",
     "text": [
      "C:\\Users\\kenan\\Anaconda3\\lib\\site-packages\\sklearn\\metrics\\classification.py:1135: UndefinedMetricWarning: Precision is ill-defined and being set to 0.0 due to no predicted samples.\n",
      "  'precision', 'predicted', average, warn_for)\n"
     ]
    },
    {
     "name": "stdout",
     "output_type": "stream",
     "text": [
      "Recall: 0.00\n",
      "Accuracy: 0.50\n",
      "Precision: 0.00\n",
      "\n",
      "SVM with C Penalty: 0.1\n",
      "Recall: 0.82\n",
      "Accuracy: 0.88\n",
      "Precision: 0.92\n",
      "\n",
      "SVM with C Penalty: 1.0\n",
      "Recall: 0.95\n",
      "Accuracy: 0.97\n",
      "Precision: 0.98\n",
      "\n",
      "SVM with C Penalty: 10.0\n",
      "Recall: 0.98\n",
      "Accuracy: 0.99\n",
      "Precision: 1.00\n",
      "\n",
      "SVM with C Penalty: 25.0\n",
      "Recall: 1.00\n",
      "Accuracy: 0.99\n",
      "Precision: 0.98\n",
      "\n",
      "SVM with C Penalty: 100.0\n",
      "Recall: 0.99\n",
      "Accuracy: 0.98\n",
      "Precision: 0.98\n",
      "\n"
     ]
    }
   ],
   "source": [
    "lbp = LBPDescriptor(radius=8, points=24, method='uniform')\n",
    "gray_images = [cv2.cvtColor(img, cv2.COLOR_RGB2GRAY) for img in images]\n",
    "\n",
    "for C in [0.01, 0.1, 1.0, 10.0, 25.0, 100.0]:\n",
    "    svm = SVM(lbp, C)\n",
    "    print(str(svm))\n",
    "    cross_train_validate(svm, gray_images, labels, test_size=0.25)\n",
    "    print()"
   ]
  },
  {
   "cell_type": "markdown",
   "metadata": {},
   "source": [
    "## Haar-like Features"
   ]
  },
  {
   "cell_type": "code",
   "execution_count": null,
   "metadata": {},
   "outputs": [],
   "source": []
  }
 ],
 "metadata": {
  "kernelspec": {
   "display_name": "Python 3",
   "language": "python",
   "name": "python3"
  },
  "language_info": {
   "codemirror_mode": {
    "name": "ipython",
    "version": 3
   },
   "file_extension": ".py",
   "mimetype": "text/x-python",
   "name": "python",
   "nbconvert_exporter": "python",
   "pygments_lexer": "ipython3",
   "version": "3.7.0"
  }
 },
 "nbformat": 4,
 "nbformat_minor": 1
}
